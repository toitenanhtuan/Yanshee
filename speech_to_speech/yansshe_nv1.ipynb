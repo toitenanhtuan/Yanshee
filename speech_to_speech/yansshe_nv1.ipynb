{
 "cells": [
  {
   "cell_type": "markdown",
   "metadata": {},
   "source": [
    "# Yanshee_DTU"
   ]
  },
  {
   "cell_type": "markdown",
   "metadata": {},
   "source": [
    "## 1. First import the robot header file"
   ]
  },
  {
   "cell_type": "code",
   "execution_count": 9,
   "metadata": {},
   "outputs": [],
   "source": [
    "import YanAPI"
   ]
  },
  {
   "cell_type": "markdown",
   "metadata": {},
   "source": [
    "## 2. Set the IP address of the robot to be controlled"
   ]
  },
  {
   "cell_type": "code",
   "execution_count": 10,
   "metadata": {},
   "outputs": [],
   "source": [
    "import speech_recognition as sr\n",
    "import requests\n",
    "from playsound import playsound"
   ]
  },
  {
   "cell_type": "code",
   "execution_count": 11,
   "metadata": {},
   "outputs": [],
   "source": [
    "ip_addr = \"10.220.5.230\" # please change to your yanshee robot IP\n",
    "YanAPI.yan_api_init(ip_addr)"
   ]
  },
  {
   "cell_type": "markdown",
   "metadata": {},
   "source": [
    "### RC control"
   ]
  },
  {
   "cell_type": "code",
   "execution_count": 4,
   "metadata": {},
   "outputs": [],
   "source": [
    "def text_to_speech_fpt(text, api_key, voice='banmai'):\n",
    "    url = 'https://api.fpt.ai/hmi/tts/v5'\n",
    "    headers = {\n",
    "        'api-key': api_key,\n",
    "        'voice': voice,\n",
    "        'speed': '',\n",
    "        'format': 'mp3'\n",
    "    }\n",
    "    response = requests.post(url, data=text.encode('utf-8'), headers=headers)\n",
    "\n",
    "    if response.status_code == 200:\n",
    "        response_json = response.json()\n",
    "        return response_json['async']\n",
    "    else:\n",
    "        print(\"Lỗi: {}, {}\".format(response.status_code, response.text))\n",
    "        return None"
   ]
  },
  {
   "cell_type": "code",
   "execution_count": 5,
   "metadata": {},
   "outputs": [],
   "source": [
    "def download_audio_file(audio_url, save_path='/home/pi/Music/output.mp3'):\n",
    "    while True:\n",
    "        response = requests.get(audio_url, stream=True)\n",
    "\n",
    "        if response.status_code == 200:\n",
    "            with open(save_path, 'wb') as audio_file:\n",
    "                for chunk in response.iter_content(chunk_size=1024):\n",
    "                    if chunk:\n",
    "                        audio_file.write(chunk)\n",
    "            break\n",
    "        else:\n",
    "            print(\"Lỗi khi tải xuống tệp âm thanh: {}\".format(response.status_code))\n",
    "    return save_path"
   ]
  },
  {
   "cell_type": "code",
   "execution_count": 6,
   "metadata": {},
   "outputs": [],
   "source": [
    "def handle_command(command):\n",
    "    \"\"\"Parse command and provide a response based on complex commands.\"\"\"\n",
    "    # Define keywords\n",
    "    color_keywords = {\n",
    "        'màu lục': ['màu lục', 'màu nục', 'làu pục'],\n",
    "        'màu lam': ['màu lam', 'làu nam', 'sàu nam']\n",
    "    }\n",
    "    position_keywords = {\n",
    "        'bên trái': ['bên trái', 'bền trái', 'bên rái'],\n",
    "        'bên phải': ['bên phải', 'bền phải', 'bên rải'],\n",
    "        'ở giữa': ['ở giữa', 'ở zữa', 'ở giữ']\n",
    "    }\n",
    "\n",
    "    color = None\n",
    "    position = None\n",
    "\n",
    "    # Check for color\n",
    "    for correct_color, synonyms in color_keywords.items():\n",
    "        if any(keyword in command for keyword in synonyms):\n",
    "            color = correct_color\n",
    "            break\n",
    "\n",
    "    # Check for position\n",
    "    for correct_position, synonyms in position_keywords.items():\n",
    "        if any(keyword in command for keyword in synonyms):\n",
    "            position = correct_position\n",
    "            break\n",
    "\n",
    "    # Create response based on identified parts\n",
    "    if color and position:\n",
    "        response = \"lấy vật phẩm 1 {} và đặt vào khung hộp {}.\".format(color, position)\n",
    "    elif color:\n",
    "        response = \"lấy vật phẩm 1 {}.\".format(color)\n",
    "    elif position:\n",
    "        response = \"đặt vật phẩm vào khung hộp {}.\".format(position)\n",
    "    else:\n",
    "        response = \"Tôi không hiểu lệnh này.\"\n",
    "\n",
    "    return response"
   ]
  },
  {
   "cell_type": "markdown",
   "metadata": {},
   "source": [
    "## 4. Phân tích dữ liệu"
   ]
  },
  {
   "cell_type": "code",
   "execution_count": null,
   "metadata": {},
   "outputs": [],
   "source": [
    "recognizer = sr.Recognizer()\n",
    "api_key = 'R3SgMgNdcDyURm119uOsqs9wEmfWg86a'  # Thay thế bằng API key của bạn\n",
    "\n",
    "# Vòng lặp liên tục để nhận lệnh giọng nói và phản hồi\n",
    "while True:\n",
    "    with sr.Microphone() as source:\n",
    "        print(\"Đang lắng nghe...\")\n",
    "        YanAPI.set_robot_led('button', 'red', 'on')\n",
    "        audio_data = recognizer.listen(source)\n",
    "        YanAPI.set_robot_led('button', 'green', 'on')\n",
    "\n",
    "        try:\n",
    "            # Nhận diện giọng nói và chuyển đổi thành văn bản\n",
    "            text = recognizer.recognize_google(audio_data, language='vi-VN').strip().lower()\n",
    "            print(\"Bạn đã nói: \", text)\n",
    "            YanAPI.set_robot_led('button', 'blue', 'on')\n",
    "\n",
    "            # Xử lý lệnh và nhận phản hồi\n",
    "            command_response = handle_command(text)\n",
    "            print(\"Phản hồi:\", command_response)\n",
    "\n",
    "            # Chuyển văn bản thành giọng nói sử dụng FPT.AI\n",
    "            audio_url = text_to_speech_fpt(command_response, api_key)\n",
    "            if audio_url:\n",
    "                audio_path = download_audio_file(audio_url)\n",
    "                if audio_path:\n",
    "                    print(\"Tệp âm thanh đã được tải xuống: {}\".format(audio_path))\n",
    "                    YanAPI.delete_motion('output')\n",
    "                    YanAPI.upload_media_music('/home/pi/Music/output.mp3')\n",
    "                    YanAPI.start_play_music(\"output\")\n",
    "                    # os.remove(audio_path)  # Xóa tệp âm thanh sau khi phát\n",
    "                else:\n",
    "                    print(\"Không tải xuống được tệp âm thanh.\")\n",
    "            else:\n",
    "                print(\"Không lấy được URL âm thanh từ API.\")\n",
    "                \n",
    "            # Kiểm tra lệnh dừng\n",
    "            if \"dừng lại\" in text:\n",
    "                print(\"Dừng lại lệnh nhận diện giọng nói.\")\n",
    "                break\n",
    "\n",
    "        except sr.UnknownValueError:\n",
    "            print(\"Không nhận diện được giọng nói.\")\n",
    "            YanAPI.set_robot_led('button', 'blue', 'on')\n",
    "            error_response = \"Tôi không hiểu, hãy nói lại.\"\n",
    "            audio_url = text_to_speech_fpt(error_response, api_key)\n",
    "            if audio_url:\n",
    "                audio_path = download_audio_file(audio_url)\n",
    "                if audio_path:\n",
    "                    try:\n",
    "                        playsound(audio_path)\n",
    "                    except Exception as e:\n",
    "                        print(\"Lỗi khi phát âm thanh: {}\".format(e))\n",
    "        except sr.RequestError as e:\n",
    "            print(\"Lỗi khi yêu cầu kết nối với Google Speech Recognition service: {e}\".format(e))\n",
    "            YanAPI.set_robot_led('button', 'blue', 'on')\n",
    "        except Exception as e:\n",
    "            print(\"Đã xảy ra lỗi: {}\".format(e))"
   ]
  },
  {
   "cell_type": "code",
   "execution_count": null,
   "metadata": {},
   "outputs": [],
   "source": []
  }
 ],
 "metadata": {
  "kernelspec": {
   "display_name": "Python 3",
   "language": "python",
   "name": "python3"
  },
  "language_info": {
   "codemirror_mode": {
    "name": "ipython",
    "version": 3
   },
   "file_extension": ".py",
   "mimetype": "text/x-python",
   "name": "python",
   "nbconvert_exporter": "python",
   "pygments_lexer": "ipython3",
   "version": "3.5.3"
  }
 },
 "nbformat": 4,
 "nbformat_minor": 4
}
